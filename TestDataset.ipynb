{
 "cells": [
  {
   "cell_type": "code",
   "execution_count": 1,
   "metadata": {},
   "outputs": [
    {
     "name": "stderr",
     "output_type": "stream",
     "text": [
      "c:\\Users\\tahiy\\VS Code Scripts\\Chatbot-Retrieval\\benv\\Lib\\site-packages\\tqdm\\auto.py:21: TqdmWarning: IProgress not found. Please update jupyter and ipywidgets. See https://ipywidgets.readthedocs.io/en/stable/user_install.html\n",
      "  from .autonotebook import tqdm as notebook_tqdm\n"
     ]
    }
   ],
   "source": [
    "from llama_index.llms.ollama import Ollama\n",
    "from llama_index.llms.openai import OpenAI\n",
    "from llama_index.core import VectorStoreIndex, SimpleDirectoryReader, Settings\n",
    "from llama_index.embeddings.huggingface import HuggingFaceEmbedding\n",
    "from llama_index.core.llms import ChatMessage, MessageRole\n",
    "from llama_index.core import ChatPromptTemplate\n",
    "import pandas as pd"
   ]
  },
  {
   "cell_type": "code",
   "execution_count": 2,
   "metadata": {},
   "outputs": [],
   "source": [
    "MODEL_NAME = \"phi3:mini\"\n",
    "\n",
    "# Consult the LlamaIndex docs if you're unsure what this does\n",
    "# documents = SimpleDirectoryReader(\"YOUR_DATA_DIRECTORY\").load_data()\n",
    "reader = SimpleDirectoryReader(input_dir=\"Data\", recursive=True)\n",
    "docs = reader.load_data()"
   ]
  },
  {
   "cell_type": "code",
   "execution_count": 3,
   "metadata": {},
   "outputs": [],
   "source": [
    "# bge-base embedding model\n",
    "Settings.embed_model = HuggingFaceEmbedding(model_name=\"BAAI/bge-base-en-v1.5\")\n",
    "Settings.llm = Ollama(\n",
    "    model=MODEL_NAME,\n",
    "    temperature=0.2,\n",
    "    request_timeout=360.0,\n",
    "    system_prompt = \"You are an AI language model trained to answer questions on a product called - Milli-Q® IQ 7000 Ultrapure Water System. It is a product of M, a Life Science company. You are given the user question and the external knowledge based on product specifications to answer that question. Keep your answers concise and based on facts – do not hallucinate features. If you do not know, respond by saying that you do not know.\"\n",
    ")\n",
    "index = VectorStoreIndex.from_documents(docs)\n",
    "rag_application = index.as_chat_engine(chat_mode=\"context\", verbose=True, streaming=True)\n"
   ]
  },
  {
   "cell_type": "code",
   "execution_count": 27,
   "metadata": {},
   "outputs": [],
   "source": [
    "# An example input to your RAG application\n",
    "user_input1 = \"What is the resistivity of the water produced by the Milli-Q® IQ 7000?\"\n",
    "\n",
    "response_object1 = rag_application.chat(user_input1)\n",
    "\n",
    "if response_object1 is not None:\n",
    "    actual_output1 = response_object1.response\n",
    "    retrieval_context1 = [node.get_content() for node in response_object1.source_nodes]"
   ]
  },
  {
   "cell_type": "code",
   "execution_count": 17,
   "metadata": {},
   "outputs": [
    {
     "data": {
      "text/plain": [
       "'The resistivity of the ultrapure water delivered by the Milli-Q® IQ 7000 system is **18.2 MΩ·cm at 25°C**. This high level of purity ensures that there are no ionic contaminants in the water, which could potentially interfere with sensitive laboratory procedures and experiments.'"
      ]
     },
     "execution_count": 17,
     "metadata": {},
     "output_type": "execute_result"
    }
   ],
   "source": [
    "actual_output"
   ]
  },
  {
   "cell_type": "code",
   "execution_count": 18,
   "metadata": {},
   "outputs": [
    {
     "data": {
      "text/plain": [
       "['Water Quality\\nThe Milli-Q® IQ 7000 delivers ultrapure water with a resistivity of **18.2 MΩ·cm at 25°C**, ensuring that the water is free from ionic contamination. The **Total Organic Carbon (TOC)** level is kept at **≤ 5 ppb**, which is vital for sensitive applications such as HPLC or mass spectrometry. \\r\\n\\r\\nIn terms of microbiological purity, the system ensures that the water contains **less than 0.01 CFU/mL of bacteria**, making it ideal for molecular biology applications. The system also removes **particulates larger than 0.22 µm**, ensuring that the water is clear of any particulate matter. \\r\\n\\r\\nFor researchers working with endotoxins, the system, when equipped with appropriate filters, can produce water with endotoxin levels lower than **0.001 EU/mL**. Additionally, the Milli-Q® IQ 7000 can deliver **RNase- and DNase-free water** when used with specialized final filters, making it suitable for sensitive molecular biology and cell culture work.',\n",
       " 'Milli-Q® IQ 7000 Ultrapure Water System - Detailed Product Specifications\\n\\r\\nThe **Milli-Q® IQ 7000** is an advanced ultrapure water system from Merck Life Science, designed to meet the high-quality water needs of modern laboratories. It delivers Type 1 ultrapure water, which is crucial for critical experiments requiring contamination-free conditions. With its compact, ergonomic design and cutting-edge technology, the system integrates seamlessly into any lab environment, offering flexibility and ease of use.']"
      ]
     },
     "execution_count": 18,
     "metadata": {},
     "output_type": "execute_result"
    }
   ],
   "source": [
    "retrieval_context"
   ]
  },
  {
   "cell_type": "code",
   "execution_count": 19,
   "metadata": {},
   "outputs": [
    {
     "data": {
      "text/plain": [
       "2"
      ]
     },
     "execution_count": 19,
     "metadata": {},
     "output_type": "execute_result"
    }
   ],
   "source": [
    "len(retrieval_context)"
   ]
  },
  {
   "cell_type": "code",
   "execution_count": 16,
   "metadata": {},
   "outputs": [
    {
     "data": {
      "text/plain": [
       "[[1, 3], [1, 2]]"
      ]
     },
     "execution_count": 16,
     "metadata": {},
     "output_type": "execute_result"
    }
   ],
   "source": [
    "l = [1,2]\n",
    "w = [[1,3]]\n",
    "w.append(l)\n",
    "w"
   ]
  },
  {
   "cell_type": "code",
   "execution_count": 22,
   "metadata": {},
   "outputs": [],
   "source": [
    "rc = []\n",
    "rc.append(retrieval_context)\n",
    "df = pd.DataFrame()\n",
    "df['Question'] = [user_input]\n",
    "df['Actual Output'] = [actual_output]\n",
    "df['Retreived Context'] = [rc]"
   ]
  },
  {
   "cell_type": "code",
   "execution_count": 10,
   "metadata": {},
   "outputs": [
    {
     "name": "stdout",
     "output_type": "stream",
     "text": [
      "None\n"
     ]
    }
   ],
   "source": [
    "print(s)"
   ]
  },
  {
   "cell_type": "code",
   "execution_count": 23,
   "metadata": {},
   "outputs": [
    {
     "data": {
      "text/html": [
       "<div>\n",
       "<style scoped>\n",
       "    .dataframe tbody tr th:only-of-type {\n",
       "        vertical-align: middle;\n",
       "    }\n",
       "\n",
       "    .dataframe tbody tr th {\n",
       "        vertical-align: top;\n",
       "    }\n",
       "\n",
       "    .dataframe thead th {\n",
       "        text-align: right;\n",
       "    }\n",
       "</style>\n",
       "<table border=\"1\" class=\"dataframe\">\n",
       "  <thead>\n",
       "    <tr style=\"text-align: right;\">\n",
       "      <th></th>\n",
       "      <th>Question</th>\n",
       "      <th>Actual Output</th>\n",
       "      <th>Retreived Context</th>\n",
       "    </tr>\n",
       "  </thead>\n",
       "  <tbody>\n",
       "    <tr>\n",
       "      <th>0</th>\n",
       "      <td>What is the resistivity of the water produced ...</td>\n",
       "      <td>The resistivity of the ultrapure water deliver...</td>\n",
       "      <td>[[Water Quality\\nThe Milli-Q® IQ 7000 delivers...</td>\n",
       "    </tr>\n",
       "  </tbody>\n",
       "</table>\n",
       "</div>"
      ],
      "text/plain": [
       "                                            Question  \\\n",
       "0  What is the resistivity of the water produced ...   \n",
       "\n",
       "                                       Actual Output  \\\n",
       "0  The resistivity of the ultrapure water deliver...   \n",
       "\n",
       "                                   Retreived Context  \n",
       "0  [[Water Quality\\nThe Milli-Q® IQ 7000 delivers...  "
      ]
     },
     "execution_count": 23,
     "metadata": {},
     "output_type": "execute_result"
    }
   ],
   "source": [
    "df"
   ]
  },
  {
   "cell_type": "code",
   "execution_count": 28,
   "metadata": {},
   "outputs": [],
   "source": [
    "def query_chat_get_response(user_input):\n",
    "    response_object = rag_application.chat(user_input)\n",
    "\n",
    "    if response_object is not None:\n",
    "        actual_output = response_object.response\n",
    "        retrieval_context = [node.get_content() for node in response_object.source_nodes]\n",
    "        return actual_output, retrieval_context\n",
    "    return None, []"
   ]
  },
  {
   "cell_type": "code",
   "execution_count": 29,
   "metadata": {},
   "outputs": [],
   "source": [
    "user_list = [\"Does the Milli-Q® IQ 7000 remove endotoxins from water?\", \"What is the resistivity of the water produced by the Milli-Q® IQ 7000?\"]\n",
    "actual_output_list = []\n",
    "retreival_final_list = []\n",
    "for input in user_list:\n",
    "    actual_output_str, retreival_list = query_chat_get_response(input)\n",
    "    actual_output_list.append(actual_output_str)\n",
    "    retreival_final_list.append(retreival_list)\n"
   ]
  },
  {
   "cell_type": "code",
   "execution_count": 30,
   "metadata": {},
   "outputs": [
    {
     "data": {
      "text/plain": [
       "['Yes, when properly equipped with specialized filters that are capable of removing endotoxins effectively, the Milli-Q® IQ 7000 Ultrapure Water System can produce ultrapure water wherein the levels of endotoxins have been reduced to less than **0.001 EU/mL**. This is particularly important for laboratory applications that are sensitive to even trace amounts of contaminants, such as molecular biology research and cell culture work, ensuring a high degree of cleanliness in the water used within these environments.',\n",
       " 'The ultrapure water system known as the Milli-Q® IQ 7000 produces water with a very high level of purity. Specifically, it delivers water that has a resistivity value of **18.2 MΩ·cm at 25°C**. This indicates an exceptionally low presence of ionic impurities in the water, which is essential for applications requiring ultrapure conditions to prevent contamination and interference with sensitive experiments or processes.']"
      ]
     },
     "execution_count": 30,
     "metadata": {},
     "output_type": "execute_result"
    }
   ],
   "source": [
    "actual_output_list"
   ]
  },
  {
   "cell_type": "code",
   "execution_count": 31,
   "metadata": {},
   "outputs": [
    {
     "data": {
      "text/plain": [
       "[['Water Quality\\nThe Milli-Q® IQ 7000 delivers ultrapure water with a resistivity of **18.2 MΩ·cm at 25°C**, ensuring that the water is free from ionic contamination. The **Total Organic Carbon (TOC)** level is kept at **≤ 5 ppb**, which is vital for sensitive applications such as HPLC or mass spectrometry. \\r\\n\\r\\nIn terms of microbiological purity, the system ensures that the water contains **less than 0.01 CFU/mL of bacteria**, making it ideal for molecular biology applications. The system also removes **particulates larger than 0.22 µm**, ensuring that the water is clear of any particulate matter. \\r\\n\\r\\nFor researchers working with endotoxins, the system, when equipped with appropriate filters, can produce water with endotoxin levels lower than **0.001 EU/mL**. Additionally, the Milli-Q® IQ 7000 can deliver **RNase- and DNase-free water** when used with specialized final filters, making it suitable for sensitive molecular biology and cell culture work.',\n",
       "  'Milli-Q® IQ 7000 Ultrapure Water System - Detailed Product Specifications\\n\\r\\nThe **Milli-Q® IQ 7000** is an advanced ultrapure water system from Merck Life Science, designed to meet the high-quality water needs of modern laboratories. It delivers Type 1 ultrapure water, which is crucial for critical experiments requiring contamination-free conditions. With its compact, ergonomic design and cutting-edge technology, the system integrates seamlessly into any lab environment, offering flexibility and ease of use.'],\n",
       " ['Water Quality\\nThe Milli-Q® IQ 7000 delivers ultrapure water with a resistivity of **18.2 MΩ·cm at 25°C**, ensuring that the water is free from ionic contamination. The **Total Organic Carbon (TOC)** level is kept at **≤ 5 ppb**, which is vital for sensitive applications such as HPLC or mass spectrometry. \\r\\n\\r\\nIn terms of microbiological purity, the system ensures that the water contains **less than 0.01 CFU/mL of bacteria**, making it ideal for molecular biology applications. The system also removes **particulates larger than 0.22 µm**, ensuring that the water is clear of any particulate matter. \\r\\n\\r\\nFor researchers working with endotoxins, the system, when equipped with appropriate filters, can produce water with endotoxin levels lower than **0.001 EU/mL**. Additionally, the Milli-Q® IQ 7000 can deliver **RNase- and DNase-free water** when used with specialized final filters, making it suitable for sensitive molecular biology and cell culture work.',\n",
       "  'Milli-Q® IQ 7000 Ultrapure Water System - Detailed Product Specifications\\n\\r\\nThe **Milli-Q® IQ 7000** is an advanced ultrapure water system from Merck Life Science, designed to meet the high-quality water needs of modern laboratories. It delivers Type 1 ultrapure water, which is crucial for critical experiments requiring contamination-free conditions. With its compact, ergonomic design and cutting-edge technology, the system integrates seamlessly into any lab environment, offering flexibility and ease of use.']]"
      ]
     },
     "execution_count": 31,
     "metadata": {},
     "output_type": "execute_result"
    }
   ],
   "source": [
    "retreival_final_list"
   ]
  },
  {
   "cell_type": "code",
   "execution_count": 32,
   "metadata": {},
   "outputs": [],
   "source": [
    "df = pd.DataFrame()\n",
    "df['Question'] = user_list\n",
    "df['Actual Output'] = actual_output_list\n",
    "df['Retreived Context'] = retreival_final_list"
   ]
  },
  {
   "cell_type": "code",
   "execution_count": 36,
   "metadata": {},
   "outputs": [
    {
     "data": {
      "text/html": [
       "<div>\n",
       "<style scoped>\n",
       "    .dataframe tbody tr th:only-of-type {\n",
       "        vertical-align: middle;\n",
       "    }\n",
       "\n",
       "    .dataframe tbody tr th {\n",
       "        vertical-align: top;\n",
       "    }\n",
       "\n",
       "    .dataframe thead th {\n",
       "        text-align: right;\n",
       "    }\n",
       "</style>\n",
       "<table border=\"1\" class=\"dataframe\">\n",
       "  <thead>\n",
       "    <tr style=\"text-align: right;\">\n",
       "      <th></th>\n",
       "      <th>Question</th>\n",
       "      <th>Actual Output</th>\n",
       "      <th>Retreived Context</th>\n",
       "    </tr>\n",
       "  </thead>\n",
       "  <tbody>\n",
       "    <tr>\n",
       "      <th>0</th>\n",
       "      <td>Does the Milli-Q® IQ 7000 remove endotoxins fr...</td>\n",
       "      <td>Yes, when properly equipped with specialized f...</td>\n",
       "      <td>[Water Quality\\nThe Milli-Q® IQ 7000 delivers ...</td>\n",
       "    </tr>\n",
       "    <tr>\n",
       "      <th>1</th>\n",
       "      <td>What is the resistivity of the water produced ...</td>\n",
       "      <td>The ultrapure water system known as the Milli-...</td>\n",
       "      <td>[Water Quality\\nThe Milli-Q® IQ 7000 delivers ...</td>\n",
       "    </tr>\n",
       "  </tbody>\n",
       "</table>\n",
       "</div>"
      ],
      "text/plain": [
       "                                            Question  \\\n",
       "0  Does the Milli-Q® IQ 7000 remove endotoxins fr...   \n",
       "1  What is the resistivity of the water produced ...   \n",
       "\n",
       "                                       Actual Output  \\\n",
       "0  Yes, when properly equipped with specialized f...   \n",
       "1  The ultrapure water system known as the Milli-...   \n",
       "\n",
       "                                   Retreived Context  \n",
       "0  [Water Quality\\nThe Milli-Q® IQ 7000 delivers ...  \n",
       "1  [Water Quality\\nThe Milli-Q® IQ 7000 delivers ...  "
      ]
     },
     "execution_count": 36,
     "metadata": {},
     "output_type": "execute_result"
    }
   ],
   "source": [
    "df"
   ]
  },
  {
   "cell_type": "code",
   "execution_count": 34,
   "metadata": {},
   "outputs": [],
   "source": [
    "df.to_csv(\"Testdataset_output.csv\")"
   ]
  },
  {
   "cell_type": "code",
   "execution_count": 37,
   "metadata": {},
   "outputs": [],
   "source": [
    "df.to_excel(\"Testdataset_output.xlsx\")"
   ]
  },
  {
   "cell_type": "code",
   "execution_count": 1,
   "metadata": {},
   "outputs": [],
   "source": [
    "rc = [1,2]\n",
    "fr = [3,4]\n",
    "\n",
    "r1 = []\n",
    "r2 = []\n",
    "r1.append(rc[0])\n",
    "r2.append(rc[1])\n",
    "r1.append(fr[0])\n",
    "r2.append(fr[1])"
   ]
  },
  {
   "cell_type": "code",
   "execution_count": 2,
   "metadata": {},
   "outputs": [
    {
     "data": {
      "text/plain": [
       "[1, 3]"
      ]
     },
     "execution_count": 2,
     "metadata": {},
     "output_type": "execute_result"
    }
   ],
   "source": [
    "r1"
   ]
  },
  {
   "cell_type": "code",
   "execution_count": null,
   "metadata": {},
   "outputs": [],
   "source": [
    "# An example input to your RAG application\n",
    "user_input = \"What is the resistivity of the water produced by the Milli-Q® IQ 7000?\"\n",
    "\n",
    "# LlamaIndex returns a response object that contains\n",
    "# both the output string and retrieved nodes\n",
    "# response_object = rag_application.query(user_input)\n",
    "response_object = rag_application.chat(user_input)\n",
    "\n",
    "# Process the response object to get the output string\n",
    "# and retrieved nodes\n",
    "if response_object is not None:\n",
    "    actual_output = response_object.response\n",
    "    retrieval_context = [node.get_content() for node in response_object.source_nodes]\n",
    "\n",
    "\n",
    "#  sources List[ToolOutput], unformatted_response str, List[NodeWithScore] source nodes\n",
    "\n",
    "rc = []\n",
    "rc.append()\n",
    "df = pd.DataFrame()\n",
    "df['Actual Output'] = [actual_output]"
   ]
  },
  {
   "cell_type": "code",
   "execution_count": 3,
   "metadata": {},
   "outputs": [
    {
     "name": "stderr",
     "output_type": "stream",
     "text": [
      "c:\\Users\\tahiy\\VS Code Scripts\\Chatbot-Retrieval\\benv\\Lib\\site-packages\\sentence_transformers\\cross_encoder\\CrossEncoder.py:11: TqdmWarning: IProgress not found. Please update jupyter and ipywidgets. See https://ipywidgets.readthedocs.io/en/stable/user_install.html\n",
      "  from tqdm.autonotebook import tqdm, trange\n",
      "c:\\Users\\tahiy\\VS Code Scripts\\Chatbot-Retrieval\\benv\\Lib\\site-packages\\transformers\\tokenization_utils_base.py:1601: FutureWarning: `clean_up_tokenization_spaces` was not set. It will be set to `True` by default. This behavior will be depracted in transformers v4.45, and will be then set to `False` by default. For more details check this issue: https://github.com/huggingface/transformers/issues/31884\n",
      "  warnings.warn(\n"
     ]
    }
   ],
   "source": [
    "from sentence_transformers import SentenceTransformer, util\n",
    "model = SentenceTransformer('paraphrase-MiniLM-L6-v2')\n",
    "embeddings1 = model.encode(\"Generated sentence\")\n",
    "embeddings2 = model.encode(\"Reference sentence\")\n",
    "cosine_similarity = util.cos_sim(embeddings1, embeddings2)"
   ]
  },
  {
   "cell_type": "code",
   "execution_count": 4,
   "metadata": {},
   "outputs": [
    {
     "data": {
      "text/plain": [
       "tensor([[0.4525]])"
      ]
     },
     "execution_count": 4,
     "metadata": {},
     "output_type": "execute_result"
    }
   ],
   "source": [
    "cosine_similarity"
   ]
  },
  {
   "cell_type": "code",
   "execution_count": 5,
   "metadata": {},
   "outputs": [],
   "source": [
    "embeddings1 = model.encode(\"A cat is sitting under the bed.\")\n",
    "embeddings2 = model.encode(\"There is a cat sitting under the bed.\")\n",
    "cosine_similarity = util.cos_sim(embeddings1, embeddings2)"
   ]
  },
  {
   "cell_type": "code",
   "execution_count": 6,
   "metadata": {},
   "outputs": [
    {
     "data": {
      "text/plain": [
       "tensor([[0.9876]])"
      ]
     },
     "execution_count": 6,
     "metadata": {},
     "output_type": "execute_result"
    }
   ],
   "source": [
    "cosine_similarity"
   ]
  },
  {
   "cell_type": "code",
   "execution_count": null,
   "metadata": {},
   "outputs": [],
   "source": []
  }
 ],
 "metadata": {
  "kernelspec": {
   "display_name": "benv",
   "language": "python",
   "name": "python3"
  },
  "language_info": {
   "codemirror_mode": {
    "name": "ipython",
    "version": 3
   },
   "file_extension": ".py",
   "mimetype": "text/x-python",
   "name": "python",
   "nbconvert_exporter": "python",
   "pygments_lexer": "ipython3",
   "version": "3.12.6"
  }
 },
 "nbformat": 4,
 "nbformat_minor": 2
}
